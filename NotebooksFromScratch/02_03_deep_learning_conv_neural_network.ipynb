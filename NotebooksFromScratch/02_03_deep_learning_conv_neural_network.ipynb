{
 "cells": [
  {
   "cell_type": "code",
   "execution_count": 1,
   "metadata": {},
   "outputs": [
    {
     "name": "stderr",
     "output_type": "stream",
     "text": [
      "Using TensorFlow backend.\n"
     ]
    }
   ],
   "source": [
    "import numpy as np\n",
    "\n",
    "from keras.layers import Input, Flatten, Dense, Conv2D, BatchNormalization, LeakyReLU, Dropout, Activation\n",
    "from keras.models import Model\n",
    "from keras.optimizers import Adam\n",
    "from keras.utils import to_categorical\n",
    "\n",
    "from keras.datasets import cifar10\n",
    "\n",
    "import matplotlib.pyplot as plt"
   ]
  },
  {
   "cell_type": "markdown",
   "metadata": {},
   "source": [
    "## Data"
   ]
  },
  {
   "cell_type": "code",
   "execution_count": 2,
   "metadata": {},
   "outputs": [],
   "source": [
    "NUM_CLASSES = 10\n",
    "\n",
    "(x_train, y_train), (x_test, y_test) = cifar10.load_data()\n",
    "\n",
    "x_train = x_train.astype(np.float32) / 255.\n",
    "x_test = x_test.astype(np.float32) / 255.\n",
    "\n",
    "y_train = to_categorical(y_train, NUM_CLASSES)\n",
    "y_test = to_categorical(y_test, NUM_CLASSES)"
   ]
  },
  {
   "cell_type": "markdown",
   "metadata": {},
   "source": [
    "## Architecture - Simple Convolutional"
   ]
  },
  {
   "cell_type": "code",
   "execution_count": 3,
   "metadata": {},
   "outputs": [
    {
     "name": "stderr",
     "output_type": "stream",
     "text": [
      "WARNING: Logging before flag parsing goes to stderr.\n",
      "W0525 15:37:13.968564 140286383167232 deprecation.py:506] From /home/comadan/.venv/gdl/lib/python3.5/site-packages/tensorflow_core/python/ops/resource_variable_ops.py:1630: calling BaseResourceVariable.__init__ (from tensorflow.python.ops.resource_variable_ops) with constraint is deprecated and will be removed in a future version.\n",
      "Instructions for updating:\n",
      "If using Keras pass *_constraint arguments to layers.\n"
     ]
    }
   ],
   "source": [
    "input_layer = Input(shape=(32, 32, 3))\n",
    "\n",
    "conv_layer_1 = Conv2D(\n",
    "    filters=10,\n",
    "    kernel_size=(4, 4),\n",
    "    strides=2,\n",
    "    padding='same',\n",
    "    activation='relu'\n",
    "    )(input_layer)\n",
    "\n",
    "conv_layer_2 = Conv2D(\n",
    "    filters=20,\n",
    "    kernel_size=(3, 3),\n",
    "    strides=2,\n",
    "    padding='same',\n",
    "    activation='relu'\n",
    "    )(conv_layer_1)\n",
    "\n",
    "flatten_layer = Flatten()(conv_layer_2)\n",
    "\n",
    "output_layer = Dense(units=10, activation='softmax')(flatten_layer)\n",
    "\n",
    "model = Model(input_layer, output_layer)"
   ]
  },
  {
   "cell_type": "code",
   "execution_count": 4,
   "metadata": {},
   "outputs": [
    {
     "name": "stdout",
     "output_type": "stream",
     "text": [
      "Model: \"model_1\"\n",
      "_________________________________________________________________\n",
      "Layer (type)                 Output Shape              Param #   \n",
      "=================================================================\n",
      "input_1 (InputLayer)         (None, 32, 32, 3)         0         \n",
      "_________________________________________________________________\n",
      "conv2d_1 (Conv2D)            (None, 16, 16, 10)        490       \n",
      "_________________________________________________________________\n",
      "conv2d_2 (Conv2D)            (None, 8, 8, 20)          1820      \n",
      "_________________________________________________________________\n",
      "flatten_1 (Flatten)          (None, 1280)              0         \n",
      "_________________________________________________________________\n",
      "dense_1 (Dense)              (None, 10)                12810     \n",
      "=================================================================\n",
      "Total params: 15,120\n",
      "Trainable params: 15,120\n",
      "Non-trainable params: 0\n",
      "_________________________________________________________________\n"
     ]
    }
   ],
   "source": [
    "model.summary()"
   ]
  },
  {
   "cell_type": "markdown",
   "metadata": {},
   "source": [
    "### Train"
   ]
  },
  {
   "cell_type": "code",
   "execution_count": 5,
   "metadata": {},
   "outputs": [],
   "source": [
    "optimizer = Adam(lr=.0005)\n",
    "model.compile(loss=\"categorical_crossentropy\", optimizer=optimizer, metrics=[\"accuracy\"])"
   ]
  },
  {
   "cell_type": "code",
   "execution_count": 6,
   "metadata": {},
   "outputs": [
    {
     "name": "stderr",
     "output_type": "stream",
     "text": [
      "W0525 15:37:15.192894 140286383167232 module_wrapper.py:139] From /home/comadan/.venv/gdl/lib/python3.5/site-packages/keras/backend/tensorflow_backend.py:422: The name tf.global_variables is deprecated. Please use tf.compat.v1.global_variables instead.\n",
      "\n"
     ]
    },
    {
     "name": "stdout",
     "output_type": "stream",
     "text": [
      "Train on 50000 samples, validate on 10000 samples\n",
      "Epoch 1/50\n",
      "50000/50000 [==============================] - 7s 136us/step - loss: 1.7342 - accuracy: 0.3866 - val_loss: 1.5749 - val_accuracy: 0.4365\n",
      "Epoch 2/50\n",
      "50000/50000 [==============================] - 6s 110us/step - loss: 1.4862 - accuracy: 0.4764 - val_loss: 1.4328 - val_accuracy: 0.4912\n",
      "Epoch 3/50\n",
      "50000/50000 [==============================] - 5s 99us/step - loss: 1.3827 - accuracy: 0.5137 - val_loss: 1.3429 - val_accuracy: 0.5272\n",
      "Epoch 4/50\n",
      "50000/50000 [==============================] - 5s 97us/step - loss: 1.3143 - accuracy: 0.5370 - val_loss: 1.3148 - val_accuracy: 0.5236\n",
      "Epoch 5/50\n",
      "50000/50000 [==============================] - 5s 94us/step - loss: 1.2709 - accuracy: 0.5541 - val_loss: 1.2765 - val_accuracy: 0.5421\n",
      "Epoch 6/50\n",
      "50000/50000 [==============================] - 5s 96us/step - loss: 1.2332 - accuracy: 0.5687 - val_loss: 1.2437 - val_accuracy: 0.5545\n",
      "Epoch 7/50\n",
      "50000/50000 [==============================] - 5s 95us/step - loss: 1.2017 - accuracy: 0.5797 - val_loss: 1.2313 - val_accuracy: 0.5613\n",
      "Epoch 8/50\n",
      "50000/50000 [==============================] - 5s 95us/step - loss: 1.1735 - accuracy: 0.5884 - val_loss: 1.1978 - val_accuracy: 0.5736\n",
      "Epoch 9/50\n",
      "50000/50000 [==============================] - 5s 98us/step - loss: 1.1476 - accuracy: 0.5985 - val_loss: 1.1855 - val_accuracy: 0.5833\n",
      "Epoch 10/50\n",
      "50000/50000 [==============================] - 5s 97us/step - loss: 1.1244 - accuracy: 0.6074 - val_loss: 1.1715 - val_accuracy: 0.5824\n",
      "Epoch 11/50\n",
      "50000/50000 [==============================] - 5s 97us/step - loss: 1.1012 - accuracy: 0.6147 - val_loss: 1.1493 - val_accuracy: 0.5950\n",
      "Epoch 12/50\n",
      "50000/50000 [==============================] - 5s 96us/step - loss: 1.0808 - accuracy: 0.6224 - val_loss: 1.1358 - val_accuracy: 0.5989\n",
      "Epoch 13/50\n",
      "50000/50000 [==============================] - 5s 97us/step - loss: 1.0619 - accuracy: 0.6282 - val_loss: 1.1352 - val_accuracy: 0.6023\n",
      "Epoch 14/50\n",
      "50000/50000 [==============================] - 5s 97us/step - loss: 1.0455 - accuracy: 0.6358 - val_loss: 1.1433 - val_accuracy: 0.5993\n",
      "Epoch 15/50\n",
      "50000/50000 [==============================] - 5s 97us/step - loss: 1.0321 - accuracy: 0.6395 - val_loss: 1.1203 - val_accuracy: 0.5997\n",
      "Epoch 16/50\n",
      "50000/50000 [==============================] - 5s 97us/step - loss: 1.0163 - accuracy: 0.6452 - val_loss: 1.1226 - val_accuracy: 0.5998\n",
      "Epoch 17/50\n",
      "50000/50000 [==============================] - 5s 99us/step - loss: 1.0073 - accuracy: 0.6467 - val_loss: 1.1130 - val_accuracy: 0.6064\n",
      "Epoch 18/50\n",
      "50000/50000 [==============================] - 5s 99us/step - loss: 0.9939 - accuracy: 0.6529 - val_loss: 1.1233 - val_accuracy: 0.6042\n",
      "Epoch 19/50\n",
      "50000/50000 [==============================] - 5s 98us/step - loss: 0.9847 - accuracy: 0.6563 - val_loss: 1.0901 - val_accuracy: 0.6185\n",
      "Epoch 20/50\n",
      "50000/50000 [==============================] - 5s 97us/step - loss: 0.9750 - accuracy: 0.6591 - val_loss: 1.1094 - val_accuracy: 0.6091\n",
      "Epoch 21/50\n",
      "50000/50000 [==============================] - 5s 99us/step - loss: 0.9676 - accuracy: 0.6618 - val_loss: 1.0835 - val_accuracy: 0.6188\n",
      "Epoch 22/50\n",
      "50000/50000 [==============================] - 5s 97us/step - loss: 0.9582 - accuracy: 0.6653 - val_loss: 1.0955 - val_accuracy: 0.6194\n",
      "Epoch 23/50\n",
      "50000/50000 [==============================] - 5s 99us/step - loss: 0.9504 - accuracy: 0.6688 - val_loss: 1.0934 - val_accuracy: 0.6177\n",
      "Epoch 24/50\n",
      "50000/50000 [==============================] - 5s 100us/step - loss: 0.9455 - accuracy: 0.6681 - val_loss: 1.1076 - val_accuracy: 0.6108\n",
      "Epoch 25/50\n",
      "50000/50000 [==============================] - 5s 98us/step - loss: 0.9399 - accuracy: 0.6711 - val_loss: 1.0832 - val_accuracy: 0.6195\n",
      "Epoch 26/50\n",
      "50000/50000 [==============================] - 5s 97us/step - loss: 0.9332 - accuracy: 0.6755 - val_loss: 1.0792 - val_accuracy: 0.6235\n",
      "Epoch 27/50\n",
      "50000/50000 [==============================] - 5s 99us/step - loss: 0.9263 - accuracy: 0.6756 - val_loss: 1.0828 - val_accuracy: 0.6224\n",
      "Epoch 28/50\n",
      "50000/50000 [==============================] - 5s 98us/step - loss: 0.9217 - accuracy: 0.6784 - val_loss: 1.1154 - val_accuracy: 0.6095\n",
      "Epoch 29/50\n",
      "50000/50000 [==============================] - 5s 98us/step - loss: 0.9174 - accuracy: 0.6804 - val_loss: 1.0677 - val_accuracy: 0.6304\n",
      "Epoch 30/50\n",
      "50000/50000 [==============================] - 5s 99us/step - loss: 0.9122 - accuracy: 0.6796 - val_loss: 1.0932 - val_accuracy: 0.6187\n",
      "Epoch 31/50\n",
      "50000/50000 [==============================] - 5s 98us/step - loss: 0.9092 - accuracy: 0.6823 - val_loss: 1.0823 - val_accuracy: 0.6259\n",
      "Epoch 32/50\n",
      "50000/50000 [==============================] - 5s 98us/step - loss: 0.9032 - accuracy: 0.6855 - val_loss: 1.0926 - val_accuracy: 0.6228\n",
      "Epoch 33/50\n",
      "50000/50000 [==============================] - 5s 98us/step - loss: 0.8988 - accuracy: 0.6874 - val_loss: 1.0842 - val_accuracy: 0.6244\n",
      "Epoch 34/50\n",
      "50000/50000 [==============================] - 5s 98us/step - loss: 0.8973 - accuracy: 0.6879 - val_loss: 1.0971 - val_accuracy: 0.6213\n",
      "Epoch 35/50\n",
      "50000/50000 [==============================] - 5s 99us/step - loss: 0.8938 - accuracy: 0.6888 - val_loss: 1.0925 - val_accuracy: 0.6220\n",
      "Epoch 36/50\n",
      "50000/50000 [==============================] - 5s 98us/step - loss: 0.8926 - accuracy: 0.6875 - val_loss: 1.0744 - val_accuracy: 0.6294\n",
      "Epoch 37/50\n",
      "50000/50000 [==============================] - 5s 98us/step - loss: 0.8862 - accuracy: 0.6909 - val_loss: 1.0986 - val_accuracy: 0.6194\n",
      "Epoch 38/50\n",
      "50000/50000 [==============================] - 5s 98us/step - loss: 0.8822 - accuracy: 0.6917 - val_loss: 1.0890 - val_accuracy: 0.6235\n",
      "Epoch 39/50\n",
      "50000/50000 [==============================] - 5s 98us/step - loss: 0.8783 - accuracy: 0.6935 - val_loss: 1.0845 - val_accuracy: 0.6286\n",
      "Epoch 40/50\n",
      "50000/50000 [==============================] - 5s 98us/step - loss: 0.8761 - accuracy: 0.6942 - val_loss: 1.0759 - val_accuracy: 0.6291\n",
      "Epoch 41/50\n",
      "50000/50000 [==============================] - 5s 97us/step - loss: 0.8751 - accuracy: 0.6937 - val_loss: 1.0852 - val_accuracy: 0.6262\n",
      "Epoch 42/50\n",
      "50000/50000 [==============================] - 5s 98us/step - loss: 0.8705 - accuracy: 0.6977 - val_loss: 1.1168 - val_accuracy: 0.6130\n",
      "Epoch 43/50\n",
      "50000/50000 [==============================] - 5s 98us/step - loss: 0.8678 - accuracy: 0.6973 - val_loss: 1.0773 - val_accuracy: 0.6302\n",
      "Epoch 44/50\n",
      "50000/50000 [==============================] - 6s 113us/step - loss: 0.8662 - accuracy: 0.6985 - val_loss: 1.0940 - val_accuracy: 0.6276\n",
      "Epoch 45/50\n",
      "50000/50000 [==============================] - 5s 98us/step - loss: 0.8646 - accuracy: 0.6983 - val_loss: 1.1044 - val_accuracy: 0.6199\n",
      "Epoch 46/50\n",
      "50000/50000 [==============================] - 5s 98us/step - loss: 0.8595 - accuracy: 0.6996 - val_loss: 1.0853 - val_accuracy: 0.6263\n",
      "Epoch 47/50\n",
      "50000/50000 [==============================] - 5s 99us/step - loss: 0.8581 - accuracy: 0.7004 - val_loss: 1.0841 - val_accuracy: 0.6251\n",
      "Epoch 48/50\n",
      "50000/50000 [==============================] - 5s 98us/step - loss: 0.8530 - accuracy: 0.7017 - val_loss: 1.0803 - val_accuracy: 0.6299\n",
      "Epoch 49/50\n",
      "50000/50000 [==============================] - 5s 97us/step - loss: 0.8552 - accuracy: 0.7008 - val_loss: 1.0974 - val_accuracy: 0.6234\n",
      "Epoch 50/50\n",
      "50000/50000 [==============================] - 5s 98us/step - loss: 0.8516 - accuracy: 0.7024 - val_loss: 1.0920 - val_accuracy: 0.6263\n"
     ]
    },
    {
     "data": {
      "text/plain": [
       "<keras.callbacks.callbacks.History at 0x7f96688e59e8>"
      ]
     },
     "execution_count": 6,
     "metadata": {},
     "output_type": "execute_result"
    }
   ],
   "source": [
    "model.fit(x_train, y_train,\n",
    "          batch_size=32,\n",
    "          epochs=50,\n",
    "          shuffle=True,\n",
    "          validation_data=(x_test, y_test))"
   ]
  },
  {
   "cell_type": "markdown",
   "metadata": {},
   "source": [
    "### Evaluate"
   ]
  },
  {
   "cell_type": "code",
   "execution_count": 7,
   "metadata": {},
   "outputs": [
    {
     "name": "stdout",
     "output_type": "stream",
     "text": [
      "10000/10000 [==============================] - 0s 18us/step\n"
     ]
    },
    {
     "data": {
      "text/plain": [
       "[1.0920123219490052, 0.6262999773025513]"
      ]
     },
     "execution_count": 7,
     "metadata": {},
     "output_type": "execute_result"
    }
   ],
   "source": [
    "model.evaluate(x_test, y_test, batch_size=1000)"
   ]
  },
  {
   "cell_type": "code",
   "execution_count": 8,
   "metadata": {},
   "outputs": [],
   "source": [
    "CLASSES = np.array(['airplane', 'automobile', 'bird', 'cat', 'deer', 'dog', 'frog', 'horse', 'ship', 'truck'])\n",
    "\n",
    "predictions = model.predict(x_test)\n",
    "predictions_single = CLASSES[np.argmax(predictions, axis=-1)]\n",
    "actuals_single = CLASSES[np.argmax(y_test, axis=-1)]"
   ]
  },
  {
   "cell_type": "code",
   "execution_count": 9,
   "metadata": {},
   "outputs": [
    {
     "data": {
      "image/png": "[encoded data removed]",
      "text/plain": [
       "<Figure size 1080x216 with 10 Axes>"
      ]
     },
     "metadata": {
      "needs_background": "light"
     },
     "output_type": "display_data"
    }
   ],
   "source": [
    "n_to_show = 10\n",
    "indices = np.random.choice(range(len(x_test)), n_to_show)\n",
    "\n",
    "fig = plt.figure(figsize=(15, 3))\n",
    "fig.subplots_adjust(hspace=0.4, wspace=0.4)\n",
    "\n",
    "for i, idx in enumerate(indices):\n",
    "    img = x_test[idx]\n",
    "    ax = fig.add_subplot(1, n_to_show, i+1)\n",
    "    ax.axis('off')\n",
    "    ax.text(0.5, -0.35, 'pred = ' + str(predictions_single[idx]), fontsize=10, ha='center', transform=ax.transAxes) \n",
    "    ax.text(0.5, -0.7, 'act = ' + str(actuals_single[idx]), fontsize=10, ha='center', transform=ax.transAxes)\n",
    "    ax.imshow(img)\n"
   ]
  },
  {
   "cell_type": "markdown",
   "metadata": {},
   "source": [
    "## Architecture - Embelish with Dropout and Batch Normalization"
   ]
  },
  {
   "cell_type": "code",
   "execution_count": 10,
   "metadata": {},
   "outputs": [],
   "source": [
    "input_layer = Input(shape=(32, 32, 3))\n",
    "\n",
    "x = Conv2D(filters=32, kernel_size=(3, 3), strides=1, padding=\"same\")(input_layer)\n",
    "x = BatchNormalization()(x)\n",
    "x = LeakyReLU()(x)\n",
    "\n",
    "x = Conv2D(filters=32, kernel_size=(3, 3), strides=2, padding=\"same\")(x)\n",
    "x = BatchNormalization()(x)\n",
    "x = LeakyReLU()(x)\n",
    "\n",
    "x = Conv2D(filters=64, kernel_size=(3, 3), strides=1, padding=\"same\")(x)\n",
    "x = BatchNormalization()(x)\n",
    "x = LeakyReLU()(x)\n",
    "\n",
    "x = Conv2D(filters=64, kernel_size=(3, 3), strides=2, padding=\"same\")(x)\n",
    "x = BatchNormalization()(x)\n",
    "x = LeakyReLU()(x)\n",
    "\n",
    "x = Flatten()(x)\n",
    "\n",
    "x = Dense(128)(x)\n",
    "x = BatchNormalization()(x)\n",
    "x = LeakyReLU()(x)\n",
    "x = Dropout(rate=.5)(x)\n",
    "\n",
    "x = Dense(NUM_CLASSES)(x)\n",
    "output_layer = Activation(\"softmax\")(x)\n",
    "\n",
    "model = Model(input_layer, output_layer)"
   ]
  },
  {
   "cell_type": "code",
   "execution_count": 11,
   "metadata": {},
   "outputs": [
    {
     "name": "stdout",
     "output_type": "stream",
     "text": [
      "Model: \"model_2\"\n",
      "_________________________________________________________________\n",
      "Layer (type)                 Output Shape              Param #   \n",
      "=================================================================\n",
      "input_2 (InputLayer)         (None, 32, 32, 3)         0         \n",
      "_________________________________________________________________\n",
      "conv2d_3 (Conv2D)            (None, 32, 32, 32)        896       \n",
      "_________________________________________________________________\n",
      "batch_normalization_1 (Batch (None, 32, 32, 32)        128       \n",
      "_________________________________________________________________\n",
      "leaky_re_lu_1 (LeakyReLU)    (None, 32, 32, 32)        0         \n",
      "_________________________________________________________________\n",
      "conv2d_4 (Conv2D)            (None, 16, 16, 32)        9248      \n",
      "_________________________________________________________________\n",
      "batch_normalization_2 (Batch (None, 16, 16, 32)        128       \n",
      "_________________________________________________________________\n",
      "leaky_re_lu_2 (LeakyReLU)    (None, 16, 16, 32)        0         \n",
      "_________________________________________________________________\n",
      "conv2d_5 (Conv2D)            (None, 16, 16, 64)        18496     \n",
      "_________________________________________________________________\n",
      "batch_normalization_3 (Batch (None, 16, 16, 64)        256       \n",
      "_________________________________________________________________\n",
      "leaky_re_lu_3 (LeakyReLU)    (None, 16, 16, 64)        0         \n",
      "_________________________________________________________________\n",
      "conv2d_6 (Conv2D)            (None, 8, 8, 64)          36928     \n",
      "_________________________________________________________________\n",
      "batch_normalization_4 (Batch (None, 8, 8, 64)          256       \n",
      "_________________________________________________________________\n",
      "leaky_re_lu_4 (LeakyReLU)    (None, 8, 8, 64)          0         \n",
      "_________________________________________________________________\n",
      "flatten_2 (Flatten)          (None, 4096)              0         \n",
      "_________________________________________________________________\n",
      "dense_2 (Dense)              (None, 128)               524416    \n",
      "_________________________________________________________________\n",
      "batch_normalization_5 (Batch (None, 128)               512       \n",
      "_________________________________________________________________\n",
      "leaky_re_lu_5 (LeakyReLU)    (None, 128)               0         \n",
      "_________________________________________________________________\n",
      "dropout_1 (Dropout)          (None, 128)               0         \n",
      "_________________________________________________________________\n",
      "dense_3 (Dense)              (None, 10)                1290      \n",
      "_________________________________________________________________\n",
      "activation_1 (Activation)    (None, 10)                0         \n",
      "=================================================================\n",
      "Total params: 592,554\n",
      "Trainable params: 591,914\n",
      "Non-trainable params: 640\n",
      "_________________________________________________________________\n"
     ]
    }
   ],
   "source": [
    "model.summary()"
   ]
  },
  {
   "cell_type": "markdown",
   "metadata": {},
   "source": [
    "### Train"
   ]
  },
  {
   "cell_type": "code",
   "execution_count": 12,
   "metadata": {},
   "outputs": [],
   "source": [
    "optimizer = Adam(lr=.0005)\n",
    "model.compile(loss=\"categorical_crossentropy\", optimizer=optimizer, metrics=[\"accuracy\"])"
   ]
  },
  {
   "cell_type": "code",
   "execution_count": 13,
   "metadata": {
    "scrolled": false
   },
   "outputs": [
    {
     "name": "stdout",
     "output_type": "stream",
     "text": [
      "Train on 50000 samples, validate on 10000 samples\n",
      "Epoch 1/50\n",
      "50000/50000 [==============================] - 15s 299us/step - loss: 1.5455 - accuracy: 0.4580 - val_loss: 1.4407 - val_accuracy: 0.4998\n",
      "Epoch 2/50\n",
      "50000/50000 [==============================] - 14s 281us/step - loss: 1.1476 - accuracy: 0.5951 - val_loss: 1.2269 - val_accuracy: 0.5806\n",
      "Epoch 3/50\n",
      "50000/50000 [==============================] - 14s 281us/step - loss: 0.9919 - accuracy: 0.6544 - val_loss: 1.0629 - val_accuracy: 0.6247\n",
      "Epoch 4/50\n",
      "50000/50000 [==============================] - 14s 281us/step - loss: 0.9067 - accuracy: 0.6822 - val_loss: 1.0818 - val_accuracy: 0.6156\n",
      "Epoch 5/50\n",
      "50000/50000 [==============================] - 14s 283us/step - loss: 0.8440 - accuracy: 0.7050 - val_loss: 0.9524 - val_accuracy: 0.6719\n",
      "Epoch 6/50\n",
      "50000/50000 [==============================] - 15s 291us/step - loss: 0.7943 - accuracy: 0.7212 - val_loss: 0.9351 - val_accuracy: 0.6777\n",
      "Epoch 7/50\n",
      "50000/50000 [==============================] - 14s 283us/step - loss: 0.7501 - accuracy: 0.7389 - val_loss: 0.9232 - val_accuracy: 0.6830\n",
      "Epoch 8/50\n",
      "50000/50000 [==============================] - 14s 281us/step - loss: 0.7118 - accuracy: 0.7537 - val_loss: 0.7977 - val_accuracy: 0.7209\n",
      "Epoch 9/50\n",
      "50000/50000 [==============================] - 14s 282us/step - loss: 0.6758 - accuracy: 0.7638 - val_loss: 0.8047 - val_accuracy: 0.7257\n",
      "Epoch 10/50\n",
      "50000/50000 [==============================] - 14s 281us/step - loss: 0.6484 - accuracy: 0.7720 - val_loss: 0.8592 - val_accuracy: 0.7040\n",
      "Epoch 11/50\n",
      "50000/50000 [==============================] - 14s 282us/step - loss: 0.6100 - accuracy: 0.7868 - val_loss: 0.8969 - val_accuracy: 0.6962\n",
      "Epoch 12/50\n",
      "50000/50000 [==============================] - 14s 282us/step - loss: 0.5880 - accuracy: 0.7933 - val_loss: 0.8361 - val_accuracy: 0.7268\n",
      "Epoch 13/50\n",
      "50000/50000 [==============================] - 14s 283us/step - loss: 0.5638 - accuracy: 0.8022 - val_loss: 0.8268 - val_accuracy: 0.7204\n",
      "Epoch 14/50\n",
      "50000/50000 [==============================] - 14s 283us/step - loss: 0.5382 - accuracy: 0.8094 - val_loss: 0.8021 - val_accuracy: 0.7335\n",
      "Epoch 15/50\n",
      "50000/50000 [==============================] - 14s 282us/step - loss: 0.5117 - accuracy: 0.8169 - val_loss: 0.8848 - val_accuracy: 0.7193\n",
      "Epoch 16/50\n",
      "50000/50000 [==============================] - 14s 283us/step - loss: 0.4920 - accuracy: 0.8261 - val_loss: 0.8362 - val_accuracy: 0.7324\n",
      "Epoch 17/50\n",
      "50000/50000 [==============================] - 14s 282us/step - loss: 0.4806 - accuracy: 0.8302 - val_loss: 0.8711 - val_accuracy: 0.7203\n",
      "Epoch 18/50\n",
      "50000/50000 [==============================] - 14s 285us/step - loss: 0.4572 - accuracy: 0.8385 - val_loss: 0.8475 - val_accuracy: 0.7262\n",
      "Epoch 19/50\n",
      "50000/50000 [==============================] - 14s 283us/step - loss: 0.4417 - accuracy: 0.8424 - val_loss: 0.8625 - val_accuracy: 0.7190\n",
      "Epoch 20/50\n",
      "50000/50000 [==============================] - 14s 283us/step - loss: 0.4276 - accuracy: 0.8474 - val_loss: 0.8596 - val_accuracy: 0.7297\n",
      "Epoch 21/50\n",
      "50000/50000 [==============================] - 14s 282us/step - loss: 0.4135 - accuracy: 0.8527 - val_loss: 0.8584 - val_accuracy: 0.7360\n",
      "Epoch 22/50\n",
      "50000/50000 [==============================] - 14s 281us/step - loss: 0.3900 - accuracy: 0.8608 - val_loss: 0.8995 - val_accuracy: 0.7277\n",
      "Epoch 23/50\n",
      "50000/50000 [==============================] - 14s 281us/step - loss: 0.3810 - accuracy: 0.8626 - val_loss: 0.8775 - val_accuracy: 0.7350\n",
      "Epoch 24/50\n",
      "50000/50000 [==============================] - 14s 283us/step - loss: 0.3669 - accuracy: 0.8682 - val_loss: 0.8718 - val_accuracy: 0.7314\n",
      "Epoch 25/50\n",
      "50000/50000 [==============================] - 14s 283us/step - loss: 0.3582 - accuracy: 0.8719 - val_loss: 1.0005 - val_accuracy: 0.7224\n",
      "Epoch 26/50\n",
      "50000/50000 [==============================] - 14s 283us/step - loss: 0.3471 - accuracy: 0.8774 - val_loss: 0.9761 - val_accuracy: 0.7171\n",
      "Epoch 27/50\n",
      "50000/50000 [==============================] - 14s 286us/step - loss: 0.3361 - accuracy: 0.8793 - val_loss: 0.9890 - val_accuracy: 0.7216\n",
      "Epoch 28/50\n",
      "50000/50000 [==============================] - 14s 286us/step - loss: 0.3234 - accuracy: 0.8821 - val_loss: 0.9662 - val_accuracy: 0.7285\n",
      "Epoch 29/50\n",
      "50000/50000 [==============================] - 14s 285us/step - loss: 0.3177 - accuracy: 0.8861 - val_loss: 0.9840 - val_accuracy: 0.7282\n",
      "Epoch 30/50\n",
      "50000/50000 [==============================] - 14s 283us/step - loss: 0.3101 - accuracy: 0.8889 - val_loss: 0.9857 - val_accuracy: 0.7241\n",
      "Epoch 31/50\n",
      "50000/50000 [==============================] - 14s 283us/step - loss: 0.2965 - accuracy: 0.8925 - val_loss: 0.9839 - val_accuracy: 0.7353\n",
      "Epoch 32/50\n",
      "50000/50000 [==============================] - 14s 285us/step - loss: 0.2899 - accuracy: 0.8940 - val_loss: 1.0022 - val_accuracy: 0.7321\n",
      "Epoch 33/50\n",
      "50000/50000 [==============================] - 14s 285us/step - loss: 0.2852 - accuracy: 0.8971 - val_loss: 1.0001 - val_accuracy: 0.7261\n",
      "Epoch 34/50\n",
      "50000/50000 [==============================] - 14s 284us/step - loss: 0.2835 - accuracy: 0.9001 - val_loss: 1.0438 - val_accuracy: 0.7243\n",
      "Epoch 35/50\n",
      "50000/50000 [==============================] - 14s 285us/step - loss: 0.2680 - accuracy: 0.9050 - val_loss: 1.0217 - val_accuracy: 0.7309\n",
      "Epoch 36/50\n",
      "50000/50000 [==============================] - 14s 285us/step - loss: 0.2631 - accuracy: 0.9052 - val_loss: 0.9864 - val_accuracy: 0.7328\n",
      "Epoch 37/50\n",
      "50000/50000 [==============================] - 14s 283us/step - loss: 0.2534 - accuracy: 0.9085 - val_loss: 1.1427 - val_accuracy: 0.7253\n",
      "Epoch 38/50\n",
      "50000/50000 [==============================] - 14s 281us/step - loss: 0.2489 - accuracy: 0.9101 - val_loss: 1.0379 - val_accuracy: 0.7367\n",
      "Epoch 39/50\n",
      "50000/50000 [==============================] - 14s 282us/step - loss: 0.2484 - accuracy: 0.9111 - val_loss: 1.1021 - val_accuracy: 0.7222\n",
      "Epoch 40/50\n",
      "50000/50000 [==============================] - 14s 283us/step - loss: 0.2418 - accuracy: 0.9130 - val_loss: 1.0764 - val_accuracy: 0.7296\n",
      "Epoch 41/50\n",
      "50000/50000 [==============================] - 14s 282us/step - loss: 0.2373 - accuracy: 0.9135 - val_loss: 1.1100 - val_accuracy: 0.7238\n",
      "Epoch 42/50\n",
      "50000/50000 [==============================] - 14s 283us/step - loss: 0.2295 - accuracy: 0.9165 - val_loss: 1.0966 - val_accuracy: 0.7325\n",
      "Epoch 43/50\n",
      "50000/50000 [==============================] - 14s 282us/step - loss: 0.2259 - accuracy: 0.9186 - val_loss: 1.1292 - val_accuracy: 0.7302\n",
      "Epoch 44/50\n",
      "50000/50000 [==============================] - 14s 285us/step - loss: 0.2186 - accuracy: 0.9218 - val_loss: 1.2550 - val_accuracy: 0.7022\n",
      "Epoch 45/50\n",
      "50000/50000 [==============================] - 14s 282us/step - loss: 0.2093 - accuracy: 0.9251 - val_loss: 1.1666 - val_accuracy: 0.7325\n",
      "Epoch 46/50\n",
      "50000/50000 [==============================] - 14s 285us/step - loss: 0.2180 - accuracy: 0.9212 - val_loss: 1.1375 - val_accuracy: 0.7303\n",
      "Epoch 47/50\n",
      "50000/50000 [==============================] - 14s 281us/step - loss: 0.2073 - accuracy: 0.9248 - val_loss: 1.1826 - val_accuracy: 0.7167\n",
      "Epoch 48/50\n",
      "50000/50000 [==============================] - 14s 282us/step - loss: 0.2029 - accuracy: 0.9258 - val_loss: 1.1861 - val_accuracy: 0.7320\n",
      "Epoch 49/50\n",
      "50000/50000 [==============================] - 14s 285us/step - loss: 0.2032 - accuracy: 0.9268 - val_loss: 1.1936 - val_accuracy: 0.7329\n",
      "Epoch 50/50\n",
      "50000/50000 [==============================] - 14s 283us/step - loss: 0.1969 - accuracy: 0.9296 - val_loss: 1.1743 - val_accuracy: 0.7245\n"
     ]
    },
    {
     "data": {
      "text/plain": [
       "<keras.callbacks.callbacks.History at 0x7f96d4cc88d0>"
      ]
     },
     "execution_count": 13,
     "metadata": {},
     "output_type": "execute_result"
    }
   ],
   "source": [
    "model.fit(x_train, y_train,\n",
    "          batch_size=32,\n",
    "          epochs=50,\n",
    "          shuffle=True,\n",
    "          validation_data=(x_test, y_test))"
   ]
  },
  {
   "cell_type": "markdown",
   "metadata": {},
   "source": [
    "### Evaluate"
   ]
  },
  {
   "cell_type": "code",
   "execution_count": 16,
   "metadata": {},
   "outputs": [
    {
     "name": "stdout",
     "output_type": "stream",
     "text": [
      "10000/10000 [==============================] - 1s 75us/step\n"
     ]
    },
    {
     "data": {
      "text/plain": [
       "[1.1742865085601806, 0.7245000004768372]"
      ]
     },
     "execution_count": 16,
     "metadata": {},
     "output_type": "execute_result"
    }
   ],
   "source": [
    "model.evaluate(x_test, y_test, batch_size=1000)"
   ]
  },
  {
   "cell_type": "code",
   "execution_count": 14,
   "metadata": {},
   "outputs": [],
   "source": [
    "CLASSES = np.array(['airplane', 'automobile', 'bird', 'cat', 'deer', 'dog', 'frog', 'horse', 'ship', 'truck'])\n",
    "\n",
    "predictions = model.predict(x_test)\n",
    "\n",
    "predictions_single = CLASSES[np.argmax(predictions, axis=-1)]\n",
    "actuals_single = CLASSES[np.argmax(y_test, axis=-1)]"
   ]
  },
  {
   "cell_type": "code",
   "execution_count": 15,
   "metadata": {},
   "outputs": [
    {
     "data": {
      "image/png": "[encoded data removed]",
      "text/plain": [
       "<Figure size 1080x216 with 10 Axes>"
      ]
     },
     "metadata": {
      "needs_background": "light"
     },
     "output_type": "display_data"
    }
   ],
   "source": [
    "n_to_show = 10\n",
    "indices = np.random.choice(range(len(x_test)), n_to_show)\n",
    "\n",
    "fig = plt.figure(figsize=(15, 3))\n",
    "fig.subplots_adjust(hspace=0.4, wspace=0.4)\n",
    "\n",
    "for i, idx in enumerate(indices):\n",
    "    img = x_test[idx]\n",
    "    ax = fig.add_subplot(1, n_to_show, i+1)\n",
    "    ax.axis('off')\n",
    "    ax.text(0.5, -0.35, 'pred = ' + str(predictions_single[idx]), fontsize=10, ha='center', transform=ax.transAxes) \n",
    "    ax.text(0.5, -0.7, 'act = ' + str(actuals_single[idx]), fontsize=10, ha='center', transform=ax.transAxes)\n",
    "    ax.imshow(img)"
   ]
  }
 ],
 "metadata": {
  "kernelspec": {
   "display_name": "Python 3",
   "language": "python",
   "name": "python3"
  },
  "language_info": {
   "codemirror_mode": {
    "name": "ipython",
    "version": 3
   },
   "file_extension": ".py",
   "mimetype": "text/x-python",
   "name": "python",
   "nbconvert_exporter": "python",
   "pygments_lexer": "ipython3",
   "version": "3.5.2"
  }
 },
 "nbformat": 4,
 "nbformat_minor": 2
}
