{
 "cells": [
  {
   "cell_type": "code",
   "execution_count": 1,
   "metadata": {},
   "outputs": [
    {
     "name": "stderr",
     "output_type": "stream",
     "text": [
      "Using TensorFlow backend.\n"
     ]
    }
   ],
   "source": [
    "from models.GenerativeAdversarialNetwork import GenerativeAdversarialNetwork"
   ]
  },
  {
   "cell_type": "code",
   "execution_count": 2,
   "metadata": {},
   "outputs": [],
   "source": [
    "image_dim = (28, 28, 1)\n",
    "latent_dim = (100, )"
   ]
  },
  {
   "cell_type": "code",
   "execution_count": 19,
   "metadata": {},
   "outputs": [],
   "source": [
    "generator_initial_dim = (7, 7, 8)\n",
    "generator_activation = 'relu'\n",
    "discriminator_activation = 'relu'\n",
    "use_batch_norm = True\n",
    "discriminator_dense_dim = 32\n",
    "generator_convolutional_params = [\n",
    "    {'strides': (1, 1), 'filters': 32, 'kernel_size': (5, 5), 'upsample': 1, },\n",
    "    {'strides': (1, 1), 'filters': 32, 'kernel_size': (5, 5), 'upsample': 2, },\n",
    "    {'strides': (1, 1), 'filters': 32, 'kernel_size': (5, 5), 'upsample': 1, },\n",
    "    {'strides': (1, 1), 'filters': 32, 'kernel_size': (5, 5), 'upsample': 2, },\n",
    "    {'strides': (1, 1), 'filters': 1, 'kernel_size': (5, 5), 'upsample': 1, },\n",
    "    ]\n",
    "discriminator_convolutional_params = [\n",
    "    {'strides': (1, 1), 'filters': 32, 'kernel_size': (3, 3),},\n",
    "    {'strides': (2, 2), 'filters': 32, 'kernel_size': (3, 3),},\n",
    "    {'strides': (1, 1), 'filters': 32, 'kernel_size': (3, 3),},\n",
    "    {'strides': (2, 2), 'filters': 32, 'kernel_size': (3, 3),},\n",
    "    {'strides': (1, 1), 'filters': 32, 'kernel_size': (3, 3),},\n",
    "    ]"
   ]
  },
  {
   "cell_type": "code",
   "execution_count": 20,
   "metadata": {},
   "outputs": [],
   "source": [
    "gan = GenerativeAdversarialNetwork(\n",
    "    image_dim=image_dim,\n",
    "    latent_dim=latent_dim,\n",
    "    generator_initial_dim=generator_initial_dim,\n",
    "    discriminator_dense_dim=discriminator_dense_dim,\n",
    "    generator_activation=generator_activation,\n",
    "    discriminator_activation=discriminator_activation,\n",
    "    generator_convolutional_params=generator_convolutional_params,\n",
    "    discriminator_convolutional_params=discriminator_convolutional_params,\n",
    "    use_batch_norm=use_batch_norm,\n",
    "    )"
   ]
  },
  {
   "cell_type": "code",
   "execution_count": 21,
   "metadata": {},
   "outputs": [
    {
     "name": "stdout",
     "output_type": "stream",
     "text": [
      "Model: \"model_9\"\n",
      "_________________________________________________________________\n",
      "Layer (type)                 Output Shape              Param #   \n",
      "=================================================================\n",
      "generator_input (InputLayer) (None, 100)               0         \n",
      "_________________________________________________________________\n",
      "dense_13 (Dense)             (None, 392)               39592     \n",
      "_________________________________________________________________\n",
      "reshape_5 (Reshape)          (None, 7, 7, 8)           0         \n",
      "_________________________________________________________________\n",
      "batch_normalization_34 (Batc (None, 7, 7, 8)           32        \n",
      "_________________________________________________________________\n",
      "activation_38 (Activation)   (None, 7, 7, 8)           0         \n",
      "_________________________________________________________________\n",
      "generator_conv2d_0 (Conv2D)  (None, 7, 7, 32)          6432      \n",
      "_________________________________________________________________\n",
      "batch_normalization_35 (Batc (None, 7, 7, 32)          128       \n",
      "_________________________________________________________________\n",
      "activation_39 (Activation)   (None, 7, 7, 32)          0         \n",
      "_________________________________________________________________\n",
      "up_sampling2d_9 (UpSampling2 (None, 14, 14, 32)        0         \n",
      "_________________________________________________________________\n",
      "generator_conv2d_1 (Conv2D)  (None, 14, 14, 32)        25632     \n",
      "_________________________________________________________________\n",
      "batch_normalization_36 (Batc (None, 14, 14, 32)        128       \n",
      "_________________________________________________________________\n",
      "activation_40 (Activation)   (None, 14, 14, 32)        0         \n",
      "_________________________________________________________________\n",
      "generator_conv2d_2 (Conv2D)  (None, 14, 14, 32)        25632     \n",
      "_________________________________________________________________\n",
      "batch_normalization_37 (Batc (None, 14, 14, 32)        128       \n",
      "_________________________________________________________________\n",
      "activation_41 (Activation)   (None, 14, 14, 32)        0         \n",
      "_________________________________________________________________\n",
      "up_sampling2d_10 (UpSampling (None, 28, 28, 32)        0         \n",
      "_________________________________________________________________\n",
      "generator_conv2d_3 (Conv2D)  (None, 28, 28, 32)        25632     \n",
      "_________________________________________________________________\n",
      "batch_normalization_38 (Batc (None, 28, 28, 32)        128       \n",
      "_________________________________________________________________\n",
      "activation_42 (Activation)   (None, 28, 28, 32)        0         \n",
      "_________________________________________________________________\n",
      "generator_conv2d_4 (Conv2D)  (None, 28, 28, 1)         801       \n",
      "_________________________________________________________________\n",
      "generator_final_activation ( (None, 28, 28, 1)         0         \n",
      "=================================================================\n",
      "Total params: 124,265\n",
      "Trainable params: 123,993\n",
      "Non-trainable params: 272\n",
      "_________________________________________________________________\n"
     ]
    }
   ],
   "source": [
    "gan.generator_model.summary()"
   ]
  },
  {
   "cell_type": "code",
   "execution_count": 22,
   "metadata": {},
   "outputs": [
    {
     "name": "stdout",
     "output_type": "stream",
     "text": [
      "Model: \"model_10\"\n",
      "_________________________________________________________________\n",
      "Layer (type)                 Output Shape              Param #   \n",
      "=================================================================\n",
      "discriminator_input (InputLa (None, 28, 28, 1)         0         \n",
      "_________________________________________________________________\n",
      "discriminator_conv2d_0 (Conv (None, 28, 28, 32)        320       \n",
      "_________________________________________________________________\n",
      "batch_normalization_39 (Batc (None, 28, 28, 32)        128       \n",
      "_________________________________________________________________\n",
      "activation_43 (Activation)   (None, 28, 28, 32)        0         \n",
      "_________________________________________________________________\n",
      "discriminator_conv2d_1 (Conv (None, 14, 14, 32)        9248      \n",
      "_________________________________________________________________\n",
      "batch_normalization_40 (Batc (None, 14, 14, 32)        128       \n",
      "_________________________________________________________________\n",
      "activation_44 (Activation)   (None, 14, 14, 32)        0         \n",
      "_________________________________________________________________\n",
      "discriminator_conv2d_2 (Conv (None, 14, 14, 32)        9248      \n",
      "_________________________________________________________________\n",
      "batch_normalization_41 (Batc (None, 14, 14, 32)        128       \n",
      "_________________________________________________________________\n",
      "activation_45 (Activation)   (None, 14, 14, 32)        0         \n",
      "_________________________________________________________________\n",
      "discriminator_conv2d_3 (Conv (None, 7, 7, 32)          9248      \n",
      "_________________________________________________________________\n",
      "batch_normalization_42 (Batc (None, 7, 7, 32)          128       \n",
      "_________________________________________________________________\n",
      "activation_46 (Activation)   (None, 7, 7, 32)          0         \n",
      "_________________________________________________________________\n",
      "discriminator_conv2d_4 (Conv (None, 7, 7, 32)          9248      \n",
      "_________________________________________________________________\n",
      "batch_normalization_43 (Batc (None, 7, 7, 32)          128       \n",
      "_________________________________________________________________\n",
      "activation_47 (Activation)   (None, 7, 7, 32)          0         \n",
      "_________________________________________________________________\n",
      "flatten_5 (Flatten)          (None, 1568)              0         \n",
      "_________________________________________________________________\n",
      "dense_14 (Dense)             (None, 32)                50208     \n",
      "_________________________________________________________________\n",
      "activation_48 (Activation)   (None, 32)                0         \n",
      "_________________________________________________________________\n",
      "dense_15 (Dense)             (None, 1)                 33        \n",
      "=================================================================\n",
      "Total params: 88,193\n",
      "Trainable params: 87,873\n",
      "Non-trainable params: 320\n",
      "_________________________________________________________________\n"
     ]
    }
   ],
   "source": [
    "gan.discriminator_model.summary()"
   ]
  },
  {
   "cell_type": "code",
   "execution_count": null,
   "metadata": {},
   "outputs": [],
   "source": []
  }
 ],
 "metadata": {
  "kernelspec": {
   "display_name": "Python 3",
   "language": "python",
   "name": "python3"
  },
  "language_info": {
   "codemirror_mode": {
    "name": "ipython",
    "version": 3
   },
   "file_extension": ".py",
   "mimetype": "text/x-python",
   "name": "python",
   "nbconvert_exporter": "python",
   "pygments_lexer": "ipython3",
   "version": "3.6.1"
  }
 },
 "nbformat": 4,
 "nbformat_minor": 2
}
