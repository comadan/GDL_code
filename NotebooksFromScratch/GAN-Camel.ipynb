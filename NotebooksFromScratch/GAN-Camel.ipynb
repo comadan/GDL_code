{
 "cells": [
  {
   "cell_type": "code",
   "execution_count": null,
   "metadata": {},
   "outputs": [],
   "source": [
    "import os\n",
    "import matplotlib.pyplot as plt\n",
    "import numpy as np"
   ]
  },
  {
   "cell_type": "code",
   "execution_count": null,
   "metadata": {},
   "outputs": [],
   "source": [
    "from models.GenerativeAdversarialNetwork import GenerativeAdversarialNetwork\n",
    "from utils.loaders import load_safari"
   ]
  },
  {
   "cell_type": "code",
   "execution_count": null,
   "metadata": {},
   "outputs": [],
   "source": [
    "# run params\n",
    "SECTION = 'gan'\n",
    "RUN_ID = '0001'\n",
    "DATA_NAME = 'camel'\n",
    "RUN_FOLDER = f'run/{SECTION}/'\n",
    "RUN_FOLDER += '_'.join([RUN_ID, DATA_NAME])\n",
    "\n",
    "if not os.path.exists(RUN_FOLDER):\n",
    "    os.mkdir(RUN_FOLDER)\n",
    "    os.mkdir(os.path.join(RUN_FOLDER, 'viz'))\n",
    "    os.mkdir(os.path.join(RUN_FOLDER, 'images'))\n",
    "    os.mkdir(os.path.join(RUN_FOLDER, 'weights'))\n",
    "\n",
    "mode = 'build' #'load' #"
   ]
  },
  {
   "cell_type": "markdown",
   "metadata": {},
   "source": [
    "## Data"
   ]
  },
  {
   "cell_type": "code",
   "execution_count": null,
   "metadata": {},
   "outputs": [],
   "source": [
    "(x_train, y_train) = load_safari(DATA_NAME)"
   ]
  },
  {
   "cell_type": "code",
   "execution_count": null,
   "metadata": {},
   "outputs": [],
   "source": [
    "x_train.shape"
   ]
  },
  {
   "cell_type": "code",
   "execution_count": null,
   "metadata": {},
   "outputs": [],
   "source": [
    "plt.imshow(x_train[200,:,:,0], cmap = 'gray')"
   ]
  },
  {
   "cell_type": "markdown",
   "metadata": {},
   "source": [
    "## Model"
   ]
  },
  {
   "cell_type": "code",
   "execution_count": null,
   "metadata": {},
   "outputs": [],
   "source": [
    "image_dim = (28, 28, 1)\n",
    "latent_dim = 100"
   ]
  },
  {
   "cell_type": "code",
   "execution_count": null,
   "metadata": {},
   "outputs": [],
   "source": [
    "generator_initial_dim = (7, 7, 64)\n",
    "generator_activation = 'relu'\n",
    "discriminator_activation = 'relu'\n",
    "use_batch_norm = True\n",
    "discriminator_learning_rate = 0.0008,\n",
    "generator_learning_rate = 0.0004,\n",
    "generator_batch_norm_momentum = 0.9\n",
    "discriminator_batch_norm_momentum = None\n",
    "use_drop_out = True\n",
    "discriminator_dense_dim = 0\n",
    "generator_dropout_rate = None\n",
    "discriminator_dropout_rate = .4\n",
    "generator_convolutional_params = [\n",
    "    {'strides': (1, 1), 'filters': 128, 'kernel_size': (5, 5), 'upsample': 2, },\n",
    "    {'strides': (1, 1), 'filters': 64, 'kernel_size': (5, 5), 'upsample': 2, },\n",
    "    {'strides': (1, 1), 'filters': 64, 'kernel_size': (5, 5), 'upsample': 1, },\n",
    "    {'strides': (1, 1), 'filters': 1, 'kernel_size': (5, 5), 'upsample': 1, },\n",
    "    ]\n",
    "discriminator_convolutional_params = [\n",
    "    {'strides': (2, 2), 'filters': 64, 'kernel_size': (5, 5),},\n",
    "    {'strides': (2, 2), 'filters': 64, 'kernel_size': (5, 5),},\n",
    "    {'strides': (2, 2), 'filters': 128, 'kernel_size': (5, 5),},\n",
    "    {'strides': (1, 1), 'filters': 128, 'kernel_size': (5, 5),},\n",
    "    ]"
   ]
  },
  {
   "cell_type": "code",
   "execution_count": null,
   "metadata": {},
   "outputs": [],
   "source": [
    "gan = GenerativeAdversarialNetwork(\n",
    "    image_dim=image_dim,\n",
    "    latent_dim=latent_dim,\n",
    "    generator_initial_dim=generator_initial_dim,\n",
    "    discriminator_dense_dim=discriminator_dense_dim,\n",
    "    generator_activation=generator_activation,\n",
    "    discriminator_activation=discriminator_activation,\n",
    "    generator_convolutional_params=generator_convolutional_params,\n",
    "    discriminator_learning_rate = discriminator_learning_rate,\n",
    "    generator_learning_rate = generator_learning_rate,\n",
    "    discriminator_convolutional_params=discriminator_convolutional_params,\n",
    "    generator_batch_norm_momentum=generator_batch_norm_momentum,\n",
    "    discriminator_batch_norm_momentum=discriminator_batch_norm_momentum,\n",
    "    generator_dropout_rate=generator_dropout_rate,\n",
    "    discriminator_dropout_rate=discriminator_dropout_rate,\n",
    "    \n",
    "    )"
   ]
  },
  {
   "cell_type": "code",
   "execution_count": null,
   "metadata": {},
   "outputs": [],
   "source": [
    "gan.generator_model.summary()"
   ]
  },
  {
   "cell_type": "code",
   "execution_count": null,
   "metadata": {
    "scrolled": false
   },
   "outputs": [],
   "source": [
    "gan.discriminator_model.summary()"
   ]
  },
  {
   "cell_type": "code",
   "execution_count": null,
   "metadata": {
    "scrolled": true
   },
   "outputs": [],
   "source": [
    "gan.adversarial_model.summary()"
   ]
  },
  {
   "cell_type": "markdown",
   "metadata": {},
   "source": [
    "## Training"
   ]
  },
  {
   "cell_type": "code",
   "execution_count": null,
   "metadata": {},
   "outputs": [],
   "source": [
    "BATCH_SIZE = 64\n",
    "EPOCHS = 6000\n",
    "PRINT_EVERY_N_BATCHES = 5"
   ]
  },
  {
   "cell_type": "code",
   "execution_count": null,
   "metadata": {
    "scrolled": false
   },
   "outputs": [],
   "source": [
    "gan.train(     \n",
    "    x_train\n",
    "    , batch_size = BATCH_SIZE\n",
    "    , epochs = EPOCHS\n",
    "    , run_folder = RUN_FOLDER\n",
    "    , print_every_n_batches = PRINT_EVERY_N_BATCHES\n",
    ")"
   ]
  },
  {
   "cell_type": "code",
   "execution_count": null,
   "metadata": {},
   "outputs": [],
   "source": [
    "latent_noise = np.random.normal(0., 1., (10, gan.latent_dim))"
   ]
  },
  {
   "cell_type": "code",
   "execution_count": null,
   "metadata": {},
   "outputs": [],
   "source": [
    "images = gan.generator_model.predict(latent_noise)"
   ]
  },
  {
   "cell_type": "code",
   "execution_count": null,
   "metadata": {},
   "outputs": [],
   "source": [
    "images.shape"
   ]
  },
  {
   "cell_type": "code",
   "execution_count": null,
   "metadata": {
    "scrolled": false
   },
   "outputs": [],
   "source": [
    "for i in range(images.shape[0]):\n",
    "    plt.imshow(images[i, :, :, 0], cmap = 'gray')\n",
    "    plt.show()"
   ]
  },
  {
   "cell_type": "code",
   "execution_count": null,
   "metadata": {},
   "outputs": [],
   "source": []
  }
 ],
 "metadata": {
  "kernelspec": {
   "display_name": "Python 3",
   "language": "python",
   "name": "python3"
  },
  "language_info": {
   "codemirror_mode": {
    "name": "ipython",
    "version": 3
   },
   "file_extension": ".py",
   "mimetype": "text/x-python",
   "name": "python",
   "nbconvert_exporter": "python",
   "pygments_lexer": "ipython3",
   "version": "3.6.1"
  }
 },
 "nbformat": 4,
 "nbformat_minor": 2
}
