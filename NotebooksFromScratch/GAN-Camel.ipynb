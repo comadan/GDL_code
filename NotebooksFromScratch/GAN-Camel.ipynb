{
 "cells": [
  {
   "cell_type": "code",
   "execution_count": 1,
   "metadata": {},
   "outputs": [
    {
     "name": "stderr",
     "output_type": "stream",
     "text": [
      "Using TensorFlow backend.\n"
     ]
    }
   ],
   "source": [
    "from models.ConvolutionalGenerativeAdversarialNetwork import ConvolutionalGenerativeAdversarialNetwork"
   ]
  },
  {
   "cell_type": "code",
   "execution_count": 2,
   "metadata": {},
   "outputs": [],
   "source": [
    "image_dim = (28, 28, 1)\n",
    "latent_dim = (100, )"
   ]
  },
  {
   "cell_type": "code",
   "execution_count": 3,
   "metadata": {},
   "outputs": [],
   "source": [
    "generator_initial_dim = (7, 7, 8)\n",
    "generator_activation = 'relu'\n",
    "discriminator_activation = 'relu'\n",
    "use_batch_norm = True\n",
    "generator_convolutional_params = [\n",
    "    {'strides': (1, 1), 'filters': 32, 'kernel_size': (5, 5), 'upsample': 1, },\n",
    "    {'strides': (1, 1), 'filters': 32, 'kernel_size': (5, 5), 'upsample': 2, },\n",
    "    {'strides': (1, 1), 'filters': 32, 'kernel_size': (5, 5), 'upsample': 1, },\n",
    "    {'strides': (1, 1), 'filters': 32, 'kernel_size': (5, 5), 'upsample': 2, },\n",
    "    {'strides': (1, 1), 'filters': 1, 'kernel_size': (5, 5), 'upsample': 1, },\n",
    "    ]\n",
    "discriminator_convolutional_params = [\n",
    "    {'strides': (1, 1), 'filters': 8, 'kernel_size': (3, 3),},\n",
    "    {'strides': (1, 1), 'filters': 8, 'kernel_size': (3, 3),},\n",
    "    ]"
   ]
  },
  {
   "cell_type": "code",
   "execution_count": 4,
   "metadata": {},
   "outputs": [
    {
     "name": "stderr",
     "output_type": "stream",
     "text": [
      "WARNING: Logging before flag parsing goes to stderr.\n",
      "W0531 17:21:53.807901 140317086201600 deprecation.py:506] From /home/comadan/.venv/gdl/lib/python3.6/site-packages/tensorflow_core/python/ops/resource_variable_ops.py:1630: calling BaseResourceVariable.__init__ (from tensorflow.python.ops.resource_variable_ops) with constraint is deprecated and will be removed in a future version.\n",
      "Instructions for updating:\n",
      "If using Keras pass *_constraint arguments to layers.\n"
     ]
    }
   ],
   "source": [
    "gan = ConvolutionalGenerativeAdversarialNetwork(\n",
    "    image_dim=image_dim,\n",
    "    latent_dim=latent_dim,\n",
    "    generator_initial_dim=generator_initial_dim,\n",
    "    generator_activation=generator_activation,\n",
    "    discriminator_activation=discriminator_activation,\n",
    "    generator_convolutional_params=generator_convolutional_params,\n",
    "    discriminator_convolutional_params=discriminator_convolutional_params,\n",
    "    use_batch_norm=use_batch_norm,\n",
    "    )"
   ]
  },
  {
   "cell_type": "code",
   "execution_count": 5,
   "metadata": {},
   "outputs": [
    {
     "name": "stdout",
     "output_type": "stream",
     "text": [
      "Model: \"model_1\"\n",
      "_________________________________________________________________\n",
      "Layer (type)                 Output Shape              Param #   \n",
      "=================================================================\n",
      "generator_input (InputLayer) (None, 100)               0         \n",
      "_________________________________________________________________\n",
      "dense_1 (Dense)              (None, 392)               39592     \n",
      "_________________________________________________________________\n",
      "reshape_1 (Reshape)          (None, 7, 7, 8)           0         \n",
      "_________________________________________________________________\n",
      "batch_normalization_1 (Batch (None, 7, 7, 8)           32        \n",
      "_________________________________________________________________\n",
      "activation_1 (Activation)    (None, 7, 7, 8)           0         \n",
      "_________________________________________________________________\n",
      "generator_conv2d_0 (Conv2D)  (None, 7, 7, 32)          6432      \n",
      "_________________________________________________________________\n",
      "activation_2 (Activation)    (None, 7, 7, 32)          0         \n",
      "_________________________________________________________________\n",
      "batch_normalization_2 (Batch (None, 7, 7, 32)          128       \n",
      "_________________________________________________________________\n",
      "up_sampling2d_1 (UpSampling2 (None, 14, 14, 32)        0         \n",
      "_________________________________________________________________\n",
      "generator_conv2d_1 (Conv2D)  (None, 14, 14, 32)        25632     \n",
      "_________________________________________________________________\n",
      "activation_3 (Activation)    (None, 14, 14, 32)        0         \n",
      "_________________________________________________________________\n",
      "batch_normalization_3 (Batch (None, 14, 14, 32)        128       \n",
      "_________________________________________________________________\n",
      "generator_conv2d_2 (Conv2D)  (None, 14, 14, 32)        25632     \n",
      "_________________________________________________________________\n",
      "activation_4 (Activation)    (None, 14, 14, 32)        0         \n",
      "_________________________________________________________________\n",
      "batch_normalization_4 (Batch (None, 14, 14, 32)        128       \n",
      "_________________________________________________________________\n",
      "up_sampling2d_2 (UpSampling2 (None, 28, 28, 32)        0         \n",
      "_________________________________________________________________\n",
      "generator_conv2d_3 (Conv2D)  (None, 28, 28, 32)        25632     \n",
      "_________________________________________________________________\n",
      "activation_5 (Activation)    (None, 28, 28, 32)        0         \n",
      "_________________________________________________________________\n",
      "batch_normalization_5 (Batch (None, 28, 28, 32)        128       \n",
      "_________________________________________________________________\n",
      "generator_conv2d_4 (Conv2D)  (None, 28, 28, 1)         801       \n",
      "_________________________________________________________________\n",
      "generator_final_activation ( (None, 28, 28, 1)         0         \n",
      "=================================================================\n",
      "Total params: 124,265\n",
      "Trainable params: 123,993\n",
      "Non-trainable params: 272\n",
      "_________________________________________________________________\n"
     ]
    }
   ],
   "source": [
    "gan.generator_model.summary()"
   ]
  },
  {
   "cell_type": "code",
   "execution_count": null,
   "metadata": {},
   "outputs": [],
   "source": []
  }
 ],
 "metadata": {
  "kernelspec": {
   "display_name": "Python 3",
   "language": "python",
   "name": "python3"
  },
  "language_info": {
   "codemirror_mode": {
    "name": "ipython",
    "version": 3
   },
   "file_extension": ".py",
   "mimetype": "text/x-python",
   "name": "python",
   "nbconvert_exporter": "python",
   "pygments_lexer": "ipython3",
   "version": "3.6.10"
  }
 },
 "nbformat": 4,
 "nbformat_minor": 2
}
