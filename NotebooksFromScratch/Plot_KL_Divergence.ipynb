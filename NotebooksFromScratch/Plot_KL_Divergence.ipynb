{
 "cells": [
  {
   "cell_type": "markdown",
   "metadata": {},
   "source": [
    "KL Loss Plot"
   ]
  },
  {
   "cell_type": "code",
   "execution_count": 1,
   "metadata": {},
   "outputs": [],
   "source": [
    "import numpy as np\n",
    "import matplotlib.pyplot as plt"
   ]
  },
  {
   "cell_type": "code",
   "execution_count": 2,
   "metadata": {},
   "outputs": [],
   "source": [
    "sigma = np.logspace(-1, 1, num=31)"
   ]
  },
  {
   "cell_type": "code",
   "execution_count": 3,
   "metadata": {},
   "outputs": [
    {
     "data": {
      "text/plain": [
       "array([ 0.1       ,  0.11659144,  0.13593564,  0.15848932,  0.18478498,\n",
       "        0.21544347,  0.25118864,  0.29286446,  0.34145489,  0.39810717,\n",
       "        0.46415888,  0.54116953,  0.63095734,  0.73564225,  0.8576959 ,\n",
       "        1.        ,  1.1659144 ,  1.35935639,  1.58489319,  1.8478498 ,\n",
       "        2.15443469,  2.51188643,  2.92864456,  3.41454887,  3.98107171,\n",
       "        4.64158883,  5.41169527,  6.30957344,  7.35642254,  8.57695899,\n",
       "       10.        ])"
      ]
     },
     "execution_count": 3,
     "metadata": {},
     "output_type": "execute_result"
    }
   ],
   "source": [
    "sigma"
   ]
  },
  {
   "cell_type": "code",
   "execution_count": 4,
   "metadata": {},
   "outputs": [],
   "source": [
    "KL_sigma = - (np.log(sigma * sigma) - sigma * sigma)"
   ]
  },
  {
   "cell_type": "code",
   "execution_count": 5,
   "metadata": {},
   "outputs": [
    {
     "data": {
      "text/plain": [
       "array([ 4.61517019,  4.3117524 ,  4.00962599,  3.70925501,  3.41127029,\n",
       "        3.11652935,  2.82619785,  2.54186036,  2.26567086,  2.00055739,\n",
       "        1.7505002 ,  1.52090984,  1.31914121,  1.15519222,  1.0426536 ,\n",
       "        1.        ,  1.05234505,  1.23382711,  1.59085239,  2.18650349,\n",
       "        3.1065321 ,  4.46750537,  6.42787957,  9.20305325, 13.08582981,\n",
       "       18.47423344, 25.90932084, 36.12658091, 50.12580516, 69.26606661,\n",
       "       95.39482981])"
      ]
     },
     "execution_count": 5,
     "metadata": {},
     "output_type": "execute_result"
    }
   ],
   "source": [
    "KL_sigma"
   ]
  },
  {
   "cell_type": "code",
   "execution_count": 6,
   "metadata": {},
   "outputs": [
    {
     "data": {
      "image/png": "[encoded data removed]",
      "text/plain": [
       "<Figure size 432x288 with 1 Axes>"
      ]
     },
     "metadata": {
      "needs_background": "light"
     },
     "output_type": "display_data"
    }
   ],
   "source": [
    "plt.figure()\n",
    "plt.scatter(sigma, KL_sigma)\n",
    "plt.show()"
   ]
  },
  {
   "cell_type": "code",
   "execution_count": null,
   "metadata": {},
   "outputs": [],
   "source": []
  }
 ],
 "metadata": {
  "kernelspec": {
   "display_name": "Python 3",
   "language": "python",
   "name": "python3"
  },
  "language_info": {
   "codemirror_mode": {
    "name": "ipython",
    "version": 3
   },
   "file_extension": ".py",
   "mimetype": "text/x-python",
   "name": "python",
   "nbconvert_exporter": "python",
   "pygments_lexer": "ipython3",
   "version": "3.6.1"
  }
 },
 "nbformat": 4,
 "nbformat_minor": 2
}
